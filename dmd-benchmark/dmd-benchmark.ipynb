{
 "cells": [
  {
   "cell_type": "markdown",
   "id": "1ee865e1",
   "metadata": {},
   "source": [
    "# Dynamic Mode Decomposition benchmark\n",
    "A very basic benchmark to understand how to tune DMD Deep Learning pipelines for the best performance."
   ]
  },
  {
   "cell_type": "code",
   "execution_count": 4,
   "id": "74419548",
   "metadata": {},
   "outputs": [],
   "source": [
    "import time\n",
    "\n",
    "from data import data_maker_fluid_flow_full\n",
    "\n",
    "import matplotlib.pyplot as plt\n",
    "import torch\n",
    "from torch.profiler import profile, record_function, ProfilerActivity\n",
    "import numpy as np\n",
    "\n",
    "from pydmd import DMD"
   ]
  },
  {
   "cell_type": "code",
   "execution_count": 2,
   "id": "19942fcf",
   "metadata": {},
   "outputs": [],
   "source": [
    "repeats = 10\n",
    "mininbatch_size = [256, 512, 1024, 2048, 5096, 10192]"
   ]
  },
  {
   "cell_type": "markdown",
   "id": "76056f0b",
   "metadata": {},
   "source": [
    "### Experiments\n",
    "- Non-tensorized DMD (i.e. no batch dimension, implemented with loop) -- NumPy implementation\n",
    "- Non-tensorized DMD (i.e. no batch dimension, implemented with loop) -- PyTorch implementation\n",
    "- Tensorized DMD (with batch dimension) on CPU\n",
    "- Tensorized DMD on GPU\n",
    "\n",
    "### DMD variant\n",
    "We consider the standard DMD variant from `Kutz, J. Nathan, et al. Dynamic mode decomposition: data-driven modeling of complex systems. Society for Industrial and Applied Mathematics, 2016.`\n",
    "\n",
    "### Hardware\n",
    "- Host: `agnesi.maths.sissa.it`\n",
    "- CPU: `11th Gen Intel(R) Core(TM) i7-11700 @ 2.50GHz`\n",
    "- GPU: `NVIDIA Quadro RTX 4000`\n",
    "\n",
    "### Software\n",
    "- NumPy: `1.22.0`\n",
    "- PyTorch: `1.13.1`\n",
    "- CUDA: `cuda/11.7`"
   ]
  },
  {
   "cell_type": "code",
   "execution_count": 5,
   "id": "b727a1d2",
   "metadata": {},
   "outputs": [
    {
     "name": "stdout",
     "output_type": "stream",
     "text": [
      "---- 256 ----\n",
      "(256, 3, 601) float32\n",
      "nonbatch-cpu NumPy done\n",
      "nonbatch-cpu done\n",
      "batch-cpu done\n",
      "moved to GPU\n",
      "batch-gpu done\n",
      "---- 512 ----\n",
      "(512, 3, 601) float32\n",
      "nonbatch-cpu NumPy done\n",
      "nonbatch-cpu done\n",
      "batch-cpu done\n",
      "moved to GPU\n",
      "batch-gpu done\n",
      "---- 1024 ----\n",
      "(1024, 3, 601) float32\n",
      "nonbatch-cpu NumPy done\n",
      "nonbatch-cpu done\n",
      "batch-cpu done\n",
      "moved to GPU\n",
      "batch-gpu done\n",
      "---- 2048 ----\n",
      "(2048, 3, 601) float32\n",
      "nonbatch-cpu NumPy done\n",
      "nonbatch-cpu done\n",
      "batch-cpu done\n",
      "moved to GPU\n",
      "batch-gpu done\n",
      "---- 5096 ----\n",
      "(5096, 3, 601) float32\n",
      "nonbatch-cpu NumPy done\n",
      "nonbatch-cpu done\n",
      "batch-cpu done\n",
      "moved to GPU\n",
      "batch-gpu done\n",
      "---- 10192 ----\n",
      "(10192, 3, 601) float32\n",
      "nonbatch-cpu NumPy done\n",
      "nonbatch-cpu done\n",
      "batch-cpu done\n",
      "moved to GPU\n",
      "batch-gpu done\n"
     ]
    }
   ],
   "source": [
    "nontensorized_cpu_numpy = []\n",
    "nontensorized_cpu = []\n",
    "tensorized_cpu = []\n",
    "tensorized_gpu = []\n",
    "\n",
    "for size in mininbatch_size:\n",
    "    print(f'---- {size} ----')\n",
    "    data = data_maker_fluid_flow_full(\n",
    "        x1_lower=-1.1,\n",
    "        x1_upper=1.1,\n",
    "        x2_lower=-1.1,\n",
    "        x2_upper=1.1,\n",
    "        x3_lower=0.0,\n",
    "        x3_upper=2,\n",
    "        n_ic=size,\n",
    "        dt=0.01,\n",
    "        tf=6,\n",
    "    ).swapaxes(-1, -2).astype(np.float32)\n",
    "    print(data.shape, data.dtype)\n",
    "    \n",
    "    m = 100000000000000\n",
    "    for repeat in range(repeats):\n",
    "        start = time.time_ns()\n",
    "        dmd = DMD(svd_rank=-1)\n",
    "        for instance in data:\n",
    "            dmd.fit(instance)\n",
    "        elapsed = time.time_ns() - start\n",
    "        m = min(m, elapsed)\n",
    "    nontensorized_cpu_numpy.append(m / 1_000_000)\n",
    "    print('nonbatch-cpu NumPy done')\n",
    "    \n",
    "    data = torch.from_numpy(data)\n",
    "    \n",
    "    m = 100000000000000\n",
    "    for repeat in range(repeats):\n",
    "        start = time.time_ns()\n",
    "        dmd = DMD(svd_rank=-1)\n",
    "        for instance in data:\n",
    "            dmd.fit(instance)\n",
    "        elapsed = time.time_ns() - start\n",
    "        m = min(m, elapsed)\n",
    "    nontensorized_cpu.append(m / 1_000_000)\n",
    "    print('nonbatch-cpu done')\n",
    "        \n",
    "    m = 100000000000000\n",
    "    for repeat in range(repeats):\n",
    "        start = time.time_ns()\n",
    "        dmd = DMD(svd_rank=-1)\n",
    "        dmd.fit(data)\n",
    "        elapsed = time.time_ns() - start\n",
    "        m = min(m, elapsed)\n",
    "    tensorized_cpu.append(m / 1_000_000)\n",
    "    print('batch-cpu done')\n",
    "    \n",
    "    data = data.cuda()\n",
    "    print('moved to GPU')\n",
    "    \n",
    "    m = 100000000000000\n",
    "    for repeat in range(repeats):\n",
    "        start = time.time_ns()\n",
    "        dmd = DMD(svd_rank=-1)\n",
    "        dmd.fit(data)\n",
    "        elapsed = time.time_ns() - start\n",
    "        m = min(m, elapsed)\n",
    "    tensorized_gpu.append(m / 1_000_000)\n",
    "    print('batch-gpu done')"
   ]
  },
  {
   "cell_type": "code",
   "execution_count": 7,
   "id": "3c3ca5b7",
   "metadata": {},
   "outputs": [
    {
     "data": {
      "image/png": "[encoded data removed]",
      "text/plain": [
       "<Figure size 720x432 with 1 Axes>"
      ]
     },
     "metadata": {
      "needs_background": "light"
     },
     "output_type": "display_data"
    }
   ],
   "source": [
    "plt.figure(figsize=(10,6))\n",
    "\n",
    "plt.title('DMD fit() performance')\n",
    "plt.grid()\n",
    "plt.xscale('log')\n",
    "\n",
    "plt.plot(mininbatch_size, nontensorized_cpu_numpy, '-o', label='Non-tensorized (CPU) -- NumPy')\n",
    "plt.plot(mininbatch_size, nontensorized_cpu, '-o', label='Non-tensorized (CPU) -- PyTorch')\n",
    "plt.plot(mininbatch_size, tensorized_cpu, '-o', label='Tensorized (CPU)')\n",
    "plt.plot(mininbatch_size, tensorized_gpu, '-o', label='Tensorized (GPU)')\n",
    "\n",
    "plt.xticks(mininbatch_size, mininbatch_size)\n",
    "plt.xlabel('Batch size')\n",
    "plt.ylabel('ms')\n",
    "\n",
    "plt.legend()\n",
    "\n",
    "plt.show()"
   ]
  },
  {
   "cell_type": "markdown",
   "id": "545de469",
   "metadata": {},
   "source": [
    "## Results interpretation\n",
    "- We'd better do pre/post processing on GPU if needed, but DMD should definitely stay on CPU. \n",
    "    - In case we manage to reduce dimensionality we could reduce the memory movement cost.\n",
    "- Tensorized DMD is much more performant wrt its `for`-loop counterpart (by at least 1 order of magnitude)"
   ]
  },
  {
   "cell_type": "markdown",
   "id": "0c13278e",
   "metadata": {},
   "source": [
    "## Profiling\n",
    "We turn to PyTorch profiler to understand what's happening on GPU due to the (kind of) unsurprisingly bad performance."
   ]
  },
  {
   "cell_type": "code",
   "execution_count": null,
   "id": "6afb861b",
   "metadata": {},
   "outputs": [],
   "source": [
    "data = data_maker_fluid_flow_full(\n",
    "        x1_lower=-1.1,\n",
    "        x1_upper=1.1,\n",
    "        x2_lower=-1.1,\n",
    "        x2_upper=1.1,\n",
    "        x3_lower=0.0,\n",
    "        x3_upper=2,\n",
    "        n_ic=1024,\n",
    "        dt=0.01,\n",
    "        tf=6,\n",
    "    )\n",
    "data = torch.from_numpy(data).swapaxes(-1, -2)\n",
    "data = data.to(dtype=torch.float32, device='cuda')\n",
    "\n",
    "dmd = DMD(svd_rank=-1)\n",
    "with profile(activities=[ProfilerActivity.CPU, ProfilerActivity.CUDA], record_shapes=True, with_stack=True) as prof:\n",
    "    with record_function(\"model_inference\"):\n",
    "        dmd.fit(data)"
   ]
  },
  {
   "cell_type": "code",
   "execution_count": null,
   "id": "94bf3e6a",
   "metadata": {},
   "outputs": [],
   "source": [
    "with open(\"profiler.txt\", \"w\") as f:\n",
    "    f.write(prof.key_averages(group_by_stack_n=1).table(sort_by=\"cuda_time_total\", row_limit=20))"
   ]
  },
  {
   "cell_type": "markdown",
   "id": "025ed676",
   "metadata": {},
   "source": [
    "The profiler clearly highlights that the culprits are `torch.linalg.svd` and `torch.linalg.cond`."
   ]
  }
 ],
 "metadata": {
  "kernelspec": {
   "display_name": "Python 3 (ipykernel)",
   "language": "python",
   "name": "python3"
  },
  "language_info": {
   "codemirror_mode": {
    "name": "ipython",
    "version": 3
   },
   "file_extension": ".py",
   "mimetype": "text/x-python",
   "name": "python",
   "nbconvert_exporter": "python",
   "pygments_lexer": "ipython3",
   "version": "3.8.13"
  }
 },
 "nbformat": 4,
 "nbformat_minor": 5
}
